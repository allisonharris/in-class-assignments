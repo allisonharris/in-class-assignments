{
 "cells": [
  {
   "cell_type": "code",
   "execution_count": 21,
   "id": "c0d251ec",
   "metadata": {},
   "outputs": [
    {
     "name": "stdout",
     "output_type": "stream",
     "text": [
      "Not Weird\n"
     ]
    }
   ],
   "source": [
    "def task(n):\n",
    "    if (1<=n<=100):\n",
    "        if (n % 2) != 0:\n",
    "            print(\"Weird\")\n",
    "        elif (n % 2) == 0:\n",
    "            if n in range (2,6):\n",
    "                print(\"Not Weird\")\n",
    "            elif n in range (6,21):\n",
    "                print(\"Weird\")\n",
    "            elif n > 20:\n",
    "                print(\"Not Weird\")\n",
    "    else:\n",
    "        print(\"Out of range\")     \n",
    "        \n",
    "task(24)"
   ]
  },
  {
   "cell_type": "code",
   "execution_count": null,
   "id": "a6fe23f6",
   "metadata": {},
   "outputs": [],
   "source": []
  },
  {
   "cell_type": "code",
   "execution_count": null,
   "id": "099bcfbe",
   "metadata": {},
   "outputs": [],
   "source": []
  }
 ],
 "metadata": {
  "kernelspec": {
   "display_name": "Python 3 (ipykernel)",
   "language": "python",
   "name": "python3"
  },
  "language_info": {
   "codemirror_mode": {
    "name": "ipython",
    "version": 3
   },
   "file_extension": ".py",
   "mimetype": "text/x-python",
   "name": "python",
   "nbconvert_exporter": "python",
   "pygments_lexer": "ipython3",
   "version": "3.8.10"
  }
 },
 "nbformat": 4,
 "nbformat_minor": 5
}
