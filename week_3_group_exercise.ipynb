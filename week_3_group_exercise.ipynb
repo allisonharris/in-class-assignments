{
 "cells": [
  {
   "cell_type": "code",
   "execution_count": 23,
   "id": "c15776d8",
   "metadata": {},
   "outputs": [
    {
     "name": "stdout",
     "output_type": "stream",
     "text": [
      "A+b= 6\n",
      "zero\n",
      "A*b=9\n",
      "None\n"
     ]
    }
   ],
   "source": [
    "def my_function(a,b):\n",
    "    if a+b == 0:\n",
    "        print('zero')\n",
    "    else:\n",
    "        print('A+b=' + str(a+b))\n",
    "    if b-a == 0:\n",
    "        print('zero')\n",
    "    else:\n",
    "        print('A-b=' + str(a-b))\n",
    "    if a*b ==0:\n",
    "        print('zero')\n",
    "    else:\n",
    "        print('A*b=' + str(a*b))\n",
    "\n",
    "print(my_function(3,3))\n"
   ]
  },
  {
   "cell_type": "code",
   "execution_count": null,
   "id": "b692acdf",
   "metadata": {},
   "outputs": [],
   "source": []
  }
 ],
 "metadata": {
  "kernelspec": {
   "display_name": "Python 3 (ipykernel)",
   "language": "python",
   "name": "python3"
  },
  "language_info": {
   "codemirror_mode": {
    "name": "ipython",
    "version": 3
   },
   "file_extension": ".py",
   "mimetype": "text/x-python",
   "name": "python",
   "nbconvert_exporter": "python",
   "pygments_lexer": "ipython3",
   "version": "3.8.10"
  }
 },
 "nbformat": 4,
 "nbformat_minor": 5
}
